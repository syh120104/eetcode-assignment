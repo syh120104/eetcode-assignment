{
  "nbformat": 4,
  "nbformat_minor": 0,
  "metadata": {
    "colab": {
      "provenance": [],
      "authorship_tag": "ABX9TyM6L8XgEDYKHZenPIX5Nxyu",
      "include_colab_link": true
    },
    "kernelspec": {
      "name": "python3",
      "display_name": "Python 3"
    },
    "language_info": {
      "name": "python"
    }
  },
  "cells": [
    {
      "cell_type": "markdown",
      "metadata": {
        "id": "view-in-github",
        "colab_type": "text"
      },
      "source": [
        "<a href=\"https://colab.research.google.com/github/syh120104/eetcode-assignment/blob/main/20241282.ipynb\" target=\"_parent\"><img src=\"https://colab.research.google.com/assets/colab-badge.svg\" alt=\"Open In Colab\"/></a>"
      ]
    },
    {
      "cell_type": "markdown",
      "source": [
        "# **1. LeetCode 225. Implement Stack using Queues**"
      ],
      "metadata": {
        "id": "p8YDN8BOEeJY"
      }
    },
    {
      "cell_type": "code",
      "source": [
        "from collections import deque\n",
        "\n",
        "class MyStack:\n",
        "    def __init__(self):\n",
        "        self.q1 = deque()\n",
        "        self.q2 = deque()\n",
        "\n",
        "    def push(self, x: int) -> None:\n",
        "        self.q2.append(x)\n",
        "        while self.q1:\n",
        "            self.q2.append(self.q1.popleft())\n",
        "        self.q1, self.q2 = self.q2, self.q1\n",
        "\n",
        "    def pop(self) -> int:\n",
        "        return self.q1.popleft()\n",
        "\n",
        "    def top(self) -> int:\n",
        "        return self.q1[0]\n",
        "\n",
        "    def empty(self) -> bool:\n",
        "        return not self.q1\n"
      ],
      "metadata": {
        "id": "bT9YYyH7FRi0"
      },
      "execution_count": null,
      "outputs": []
    },
    {
      "cell_type": "markdown",
      "source": [
        "# **2. LeetCode 232. Implement Queue using Stacks ***"
      ],
      "metadata": {
        "id": "LJ0GgV2_EoXa"
      }
    },
    {
      "cell_type": "code",
      "source": [
        "class MyQueue:\n",
        "    def __init__(self):\n",
        "        self.in_stack = []\n",
        "        self.out_stack = []\n",
        "\n",
        "    def push(self, x: int) -> None:\n",
        "        self.in_stack.append(x)\n",
        "\n",
        "    def pop(self) -> int:\n",
        "        self.peek()\n",
        "        return self.out_stack.pop()\n",
        "\n",
        "    def peek(self) -> int:\n",
        "        if not self.out_stack:\n",
        "            while self.in_stack:\n",
        "                self.out_stack.append(self.in_stack.pop())\n",
        "        return self.out_stack[-1]\n",
        "\n",
        "    def empty(self) -> bool:\n",
        "        return not self.in_stack and not self.out_stack\n"
      ],
      "metadata": {
        "id": "TcyNroRAFdhG"
      },
      "execution_count": null,
      "outputs": []
    },
    {
      "cell_type": "markdown",
      "source": [
        "# **3. 교재의 큐 연습문제 전부**"
      ],
      "metadata": {
        "id": "rtIey8VNEyDo"
      }
    },
    {
      "cell_type": "markdown",
      "source": [
        "01)"
      ],
      "metadata": {
        "id": "wGSA86tSK4Pk"
      }
    },
    {
      "cell_type": "code",
      "source": [
        "\n",
        "\n",
        "\\begin{verbatim}\n",
        "class ListQueue:\n",
        "    def __init__(self):\n",
        "        self._queue = []\n",
        "\n",
        "    def enqueue(self, x):\n",
        "        self._queue.append(x)\n",
        "\n",
        "    def dequeue(self):\n",
        "        if not self.isEmpty():\n",
        "            return self._queue.pop()\n",
        "        else:\n",
        "            return None\n",
        "\n",
        "    def front(self):\n",
        "        if not self.isEmpty():\n",
        "            return self._queue[-1]\n",
        "        else:\n",
        "            return None\n",
        "\n",
        "    def isEmpty(self) -> bool:\n",
        "        return len(self._queue) == 0\n",
        "\n",
        "    def dequeueAll(self):\n",
        "        self._queue.clear()\n",
        "\\end{verbatim}\n"
      ],
      "metadata": {
        "id": "yeHmz_tzGG3w"
      },
      "execution_count": null,
      "outputs": []
    },
    {
      "cell_type": "markdown",
      "source": [
        "02)"
      ],
      "metadata": {
        "id": "fdKslDYgK5Bz"
      }
    },
    {
      "cell_type": "code",
      "source": [
        "\n",
        "from collections import deque\n",
        "\n",
        "def is_wsw(input_string):\n",
        "    n = len(input_string)\n",
        "    if n < 3:\n",
        "        return False\n",
        "\n",
        "    q = deque(input_string)\n",
        "\n",
        "    first_char = q.popleft()\n",
        "    last_char = q.pop()\n",
        "\n",
        "    if first_char != last_char:\n",
        "        return False\n",
        "\n",
        "    return True\n",
        "\n"
      ],
      "metadata": {
        "id": "oXJFVEIzGrB9"
      },
      "execution_count": null,
      "outputs": []
    },
    {
      "cell_type": "markdown",
      "source": [
        "03)"
      ],
      "metadata": {
        "id": "qtP-ULVhK2C0"
      }
    },
    {
      "cell_type": "code",
      "source": [
        "\n",
        "class Node:\n",
        "    def __init__(self, data):\n",
        "        self.data = data\n",
        "        self.next = None\n",
        "\n",
        "class LinkedQueue:\n",
        "    def __init__(self):\n",
        "        self.front = None\n",
        "        self.rear = None\n",
        "        self.size = 0\n",
        "\n",
        "    def enqueue(self, data):\n",
        "        new_node = Node(data)\n",
        "        if self.is_empty():\n",
        "            self.front = new_node\n",
        "            self.rear = new_node\n",
        "        else:\n",
        "            self.rear.next = new_node\n",
        "            self.rear = new_node\n",
        "        self.size += 1\n",
        "\n",
        "    def dequeue(self):\n",
        "        if self.is_empty():\n",
        "            return None\n",
        "        data = self.front.data\n",
        "        self.front = self.front.next\n",
        "        if self.front is None:\n",
        "            self.rear = None\n",
        "        self.size -= 1\n",
        "        return data\n",
        "\n",
        "    def peek(self):\n",
        "        if self.is_empty():\n",
        "            return None\n",
        "        return self.front.data\n",
        "\n",
        "    def is_empty(self):\n",
        "        return self.size == 0\n",
        "\n",
        "    def get_size(self):\n",
        "        return self.size\n",
        "\n",
        "def copy_linked_queue(a):\n",
        "    b = LinkedQueue()\n",
        "    current = a.front\n",
        "    while current:\n",
        "        b.enqueue(current.data)\n",
        "        current = current.next\n",
        "    return b\n"
      ],
      "metadata": {
        "id": "6Xk79J8XGzwN"
      },
      "execution_count": null,
      "outputs": []
    },
    {
      "cell_type": "markdown",
      "source": [
        "04)"
      ],
      "metadata": {
        "id": "vkLCtYD8K0Kn"
      }
    },
    {
      "cell_type": "code",
      "source": [
        "\n",
        "from collections import deque\n",
        "\n",
        "class StackUsingQueues:\n",
        "    def __init__(self):\n",
        "        self.q1 = deque()\n",
        "        self.q2 = deque()\n",
        "\n",
        "    def push(self, item):\n",
        "        self.q2.append(item)\n",
        "        while self.q1:\n",
        "            self.q2.append(self.q1.popleft())\n",
        "        self.q1, self.q2 = self.q2, self.q1\n",
        "\n",
        "    def pop(self):\n",
        "        if not self.q1:\n",
        "            return None\n",
        "        return self.q1.popleft()\n",
        "\n",
        "    def peek(self):\n",
        "        if not self.q1:\n",
        "            return None\n",
        "        return self.q1[0]\n",
        "\n",
        "    def is_empty(self):\n",
        "        return not self.q1\n",
        "\n",
        "    def size(self):\n",
        "        return len(self.q1)\n"
      ],
      "metadata": {
        "id": "TW0hr3KFG-lZ"
      },
      "execution_count": null,
      "outputs": []
    },
    {
      "cell_type": "markdown",
      "source": [
        "05)"
      ],
      "metadata": {
        "id": "Pbay5NJ-Ky8B"
      }
    },
    {
      "cell_type": "code",
      "source": [
        "\n",
        "\n",
        "class QueueUsingStacks:\n",
        "    def __init__(self):\n",
        "        self.s1 = []\n",
        "        self.s2 = []\n",
        "\n",
        "    def enqueue(self, item):\n",
        "        self.s1.append(item)\n",
        "\n",
        "    def dequeue(self):\n",
        "        if not self.s2:\n",
        "            while self.s1:\n",
        "                self.s2.append(self.s1.pop())\n",
        "            if not self.s2:\n",
        "                return None\n",
        "        return self.s2.pop()\n",
        "\n",
        "    def peek(self):\n",
        "        if not self.s2:\n",
        "            while self.s1:\n",
        "                self.s2.append(self.s1.pop())\n",
        "            if not self.s2:\n",
        "                return None\n",
        "        return self.s2[-1]\n",
        "\n",
        "    def is_empty(self):\n",
        "        return not self.s1 and not self.s2\n",
        "\n",
        "    def size(self):\n",
        "        return len(self.s1) + len(self.s2)\n"
      ],
      "metadata": {
        "id": "c343KH8lHG0a"
      },
      "execution_count": null,
      "outputs": []
    },
    {
      "cell_type": "markdown",
      "source": [
        "06) enqueue(): O(1), dequeue(): O(1)"
      ],
      "metadata": {
        "id": "u2HZarDZKdSq"
      }
    },
    {
      "cell_type": "markdown",
      "source": [
        "07) enqueue(): $O(n)$, dequeue(): $O(1)$"
      ],
      "metadata": {
        "id": "IrwGZSHHKe2u"
      }
    },
    {
      "cell_type": "markdown",
      "source": [
        "08)"
      ],
      "metadata": {
        "id": "N7_vOdiHK8QA"
      }
    },
    {
      "cell_type": "code",
      "source": [
        "class Deque:\n",
        "    def __init__(self):\n",
        "        self._deque = []\n",
        "\n",
        "    def enqueueFront(self, x):\n",
        "        \"\"\"Deque의 앞에 요소를 추가합니다.\"\"\"\n",
        "        self._deque.insert(0, x)\n",
        "\n",
        "    def enqueueRear(self, x):\n",
        "        \"\"\"Deque의 뒤에 요소를 추가합니다.\"\"\"\n",
        "        self._deque.append(x)\n",
        "\n",
        "    def dequeueFront(self):\n",
        "        \"\"\"Deque의 앞에서 요소를 제거하고 반환합니다.\"\"\"\n",
        "        if not self.isEmpty():\n",
        "            return self._deque.pop(0)\n",
        "        else:\n",
        "            return None\n",
        "\n",
        "    def dequeueRear(self):\n",
        "        \"\"\"Deque의 뒤에서 요소를 제거하고 반환합니다.\"\"\"\n",
        "        if not self.isEmpty():\n",
        "            return self._deque.pop()\n",
        "        else:\n",
        "            return None\n",
        "\n",
        "    def front(self):\n",
        "        \"\"\"Deque의 맨 앞 요소를 반환합니다.\"\"\"\n",
        "        if not self.isEmpty():\n",
        "            return self._deque[0]\n",
        "        else:\n",
        "            return None\n",
        "\n",
        "    def rear(self):\n",
        "        \"\"\"Deque의 맨 뒤 요소를 반환합니다.\"\"\"\n",
        "        if not self.isEmpty():\n",
        "            return self._deque[-1]\n",
        "        else:\n",
        "            return None\n",
        "\n",
        "    def isEmpty(self) -> bool:\n",
        "        \"\"\"Deque가 비어 있는지 확인합니다.\"\"\"\n",
        "        return len(self._deque) == 0\n",
        "\n",
        "    def size(self) -> int:\n",
        "        \"\"\"Deque의 크기를 반환합니다.\"\"\"\n",
        "        return len(self._deque)\n",
        "\n",
        "    def clear(self):\n",
        "        \"\"\"Deque의 모든 요소를 제거합니다.\"\"\"\n",
        "        self._deque.clear()\n",
        "\n",
        "    def printDeque(self):\n",
        "        \"\"\"Deque의 내용을 앞에서부터 출력합니다.\"\"\"\n",
        "        print(\"Deque from front:\", end=\" \")\n",
        "        for item in self._deque:\n",
        "            print(item, end=\" \")\n",
        "        print()\n"
      ],
      "metadata": {
        "id": "n1t9umM0K-ay"
      },
      "execution_count": null,
      "outputs": []
    }
  ]
}