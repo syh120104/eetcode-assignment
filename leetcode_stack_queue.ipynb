{
 "cells": [
  {
   "cell_type": "markdown",
   "id": "7ac20439",
   "metadata": {},
   "source": [
    "# 1. LeetCode 225. Implement Stack using Queues\n",
    "\n",
    "Implement a last-in-first-out (LIFO) stack using only two queues."
   ]
  },
  {
   "cell_type": "code",
   "execution_count": null,
   "id": "72566f12",
   "metadata": {},
   "outputs": [],
   "source": [
    "from collections import deque\n",
    "\n",
    "class MyStack:\n",
    "    def __init__(self):\n",
    "        self.q1 = deque()\n",
    "        self.q2 = deque()\n",
    "\n",
    "    def push(self, x: int) -> None:\n",
    "        self.q2.append(x)\n",
    "        while self.q1:\n",
    "            self.q2.append(self.q1.popleft())\n",
    "        self.q1, self.q2 = self.q2, self.q1\n",
    "\n",
    "    def pop(self) -> int:\n",
    "        return self.q1.popleft()\n",
    "\n",
    "    def top(self) -> int:\n",
    "        return self.q1[0]\n",
    "\n",
    "    def empty(self) -> bool:\n",
    "        return not self.q1"
   ]
  },
  {
   "cell_type": "markdown",
   "id": "87848ddc",
   "metadata": {},
   "source": [
    "### 풀이 설명\n",
    "- 두 개의 큐를 사용하여 Stack을 구현합니다.\n",
    "- `push(x)` 시 새 요소는 빈 큐에 삽입되고, 기존 큐의 모든 요소를 뒤에 붙입니다.\n",
    "- `q1`과 `q2`를 swap하여 항상 최신 상태를 유지합니다.\n",
    "- `pop()`과 `top()`은 `q1`에서 처리됩니다.\n"
   ]
  },
  {
   "cell_type": "markdown",
   "id": "b19612e9",
   "metadata": {},
   "source": [
    "# 2. LeetCode 232. Implement Queue using Stacks\n",
    "\n",
    "Implement a first-in-first-out (FIFO) queue using only two stacks."
   ]
  },
  {
   "cell_type": "code",
   "execution_count": null,
   "id": "7f911d61",
   "metadata": {},
   "outputs": [],
   "source": [
    "class MyQueue:\n",
    "    def __init__(self):\n",
    "        self.in_stack = []\n",
    "        self.out_stack = []\n",
    "\n",
    "    def push(self, x: int) -> None:\n",
    "        self.in_stack.append(x)\n",
    "\n",
    "    def pop(self) -> int:\n",
    "        self.peek()\n",
    "        return self.out_stack.pop()\n",
    "\n",
    "    def peek(self) -> int:\n",
    "        if not self.out_stack:\n",
    "            while self.in_stack:\n",
    "                self.out_stack.append(self.in_stack.pop())\n",
    "        return self.out_stack[-1]\n",
    "\n",
    "    def empty(self) -> bool:\n",
    "        return not self.in_stack and not self.out_stack"
   ]
  },
  {
   "cell_type": "markdown",
   "id": "4f487d04",
   "metadata": {},
   "source": [
    "### 풀이 설명\n",
    "- 두 개의 스택 `in_stack`과 `out_stack`을 사용하여 Queue를 구현합니다.\n",
    "- `push(x)`는 `in_stack`에 쌓고,\n",
    "- `peek()` 또는 `pop()` 시 `out_stack`이 비어있다면 `in_stack`을 뒤집어 옮깁니다.\n",
    "- 이를 통해 amortized O(1) 시간 복잡도를 만족합니다.\n"
   ]
  },
  {
   "cell_type": "markdown",
   "id": "ade03cb1",
   "metadata": {},
   "source": [
    "# 3. 기타 문제 또는 Palindrome 문제 (예시)"
   ]
  },
  {
   "cell_type": "code",
   "execution_count": null,
   "id": "c5e367d2",
   "metadata": {},
   "outputs": [],
   "source": [
    "# 예시: Palindrome 확인\n",
    "def is_palindrome(s: str) -> bool:\n",
    "    return s == s[::-1]\n",
    "\n",
    "# 테스트\n",
    "print(is_palindrome(\"racecar\"))  # True\n",
    "print(is_palindrome(\"hello\"))    # False\n"
   ]
  },
  {
   "cell_type": "markdown",
   "id": "24c9f3c9",
   "metadata": {},
   "source": [
    "### 풀이 설명\n",
    "- 문자열을 뒤집어서 원래 문자열과 비교하여 Palindrome 여부를 확인합니다.\n"
   ]
  }
 ],
 "metadata": {},
 "nbformat": 4,
 "nbformat_minor": 5
}
